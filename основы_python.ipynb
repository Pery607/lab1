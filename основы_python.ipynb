{
  "nbformat": 4,
  "nbformat_minor": 0,
  "metadata": {
    "colab": {
      "provenance": []
    },
    "kernelspec": {
      "name": "python3",
      "display_name": "Python 3"
    },
    "language_info": {
      "name": "python"
    }
  },
  "cells": [
    {
      "cell_type": "markdown",
      "source": [
        "#Задача 1\n",
        "Написать функцию на вход которой подается строка, состоящая из латинских букв.\n",
        "Функция должна вернуть количество гласных букв (a, e, i, o, u) в этой строке. Написать тесты для кода"
      ],
      "metadata": {
        "id": "M-DGa20PaHnu"
      }
    },
    {
      "cell_type": "code",
      "source": [
        "vowels=['a','e','i','o','u']\n",
        "def searchVowels(str):\n",
        "  count=0\n",
        "  for i in str.lower():\n",
        "    if(i in vowels):\n",
        "      count+=1\n",
        "  return count\n",
        "def searchVowels_test():\n",
        "    assert searchVowels('Hello world') == 3\n",
        "    assert searchVowels('HElLO world')==3\n",
        "    assert searchVowels('aeiouAEIOU')==10\n",
        "    assert searchVowels('qwrty')==0\n",
        "searchVowels_test()"
      ],
      "metadata": {
        "id": "XvX8X_JJ6PCb"
      },
      "execution_count": null,
      "outputs": []
    },
    {
      "cell_type": "markdown",
      "source": [
        "# Задача 2\n",
        "Написать функцию на вход, которой подается строка. Функция должна вернуть true, если\n",
        "каждый символ в строке встречается только 1 раз, иначе должна вернуть false. Написать тесты для кода"
      ],
      "metadata": {
        "id": "t2ClV_Y0bbr6"
      }
    },
    {
      "cell_type": "code",
      "source": [
        "def allSymbolsUnique(str):\n",
        "  uniqueSymbols=set(str)\n",
        "  return(len(str)==len(uniqueSymbols))\n",
        "def allSymbolsUnique_test():\n",
        "    assert allSymbolsUnique('asdfgh') == True\n",
        "    assert allSymbolsUnique('aaaa')==False\n",
        "allSymbolsUnique_test()"
      ],
      "metadata": {
        "id": "FppbECao6VIz"
      },
      "execution_count": null,
      "outputs": []
    },
    {
      "cell_type": "markdown",
      "source": [
        "# Задача 3\n",
        "Написать функцию, которая принимает положительное число и возвращает количество\n",
        "бит равных 1 в этом числе. Написать тесты для кода"
      ],
      "metadata": {
        "id": "udRiIK1cdt6E"
      }
    },
    {
      "cell_type": "code",
      "source": [
        "def countBitIs1(number):\n",
        "  return(str(bin(number)).count('1'))\n",
        "def countBitIs1_test():\n",
        "  assert countBitIs1(0) == 0\n",
        "  assert countBitIs1(1) == 1\n",
        "  assert countBitIs1(2) == 1\n",
        "  assert countBitIs1(3) == 2\n",
        "  assert countBitIs1(7) == 3\n",
        "  assert countBitIs1(15) == 4\n",
        "  assert countBitIs1(47)==5\n",
        "countBitIs1_test()"
      ],
      "metadata": {
        "id": "6tkfDJRz6dp_"
      },
      "execution_count": null,
      "outputs": []
    },
    {
      "cell_type": "markdown",
      "source": [
        "# Задача 4\n",
        "Написать функцию, которая принимает положительное число. Функция должна вернуть то,\n",
        "сколько раз необходимо перемножать цифры числа или результат перемножения, чтобы\n",
        "получилось число состоящее из одной цифры.\n",
        "Например, для входного числа:\n",
        "· 39 функция должна вернуть 3, так как 3*9=27 => 2*7=14 => 1*4=4\n",
        "· 4 функция должна вернуть 0, так как число уже состоит из одной цифры\n",
        "· 999 функция должна вернуть 4, так как 9*9*9=729 => 7*2*9=126 => 1*2*6=12 =>\n",
        "1*2=2. Написать тесты для кода"
      ],
      "metadata": {
        "id": "26dDUz-Ae17N"
      }
    },
    {
      "cell_type": "code",
      "source": [
        "def magic(n):\n",
        "  count=0\n",
        "  while(len(str(n))!=1):\n",
        "    result=1\n",
        "    for i in str(n):\n",
        "      result*=int(i)\n",
        "    n=result\n",
        "    count+=1\n",
        "  return count\n",
        "def magic_test():\n",
        "  assert magic(0) == 0\n",
        "  assert magic(1) == 0\n",
        "  assert magic(2) == 0\n",
        "  assert magic(3) == 0\n",
        "  assert magic(7) == 0\n",
        "  assert magic(15) == 1\n",
        "  assert magic(47)==3\n",
        "  assert magic(39)==3\n",
        "  assert magic(999)==4\n",
        "magic_test()"
      ],
      "metadata": {
        "id": "BH1A_Mgi6i4G"
      },
      "execution_count": null,
      "outputs": []
    },
    {
      "cell_type": "markdown",
      "source": [
        "# Задача 5\n",
        "Написать функцию, которая принимает два целочисленных вектора одинаковой длины и\n",
        "возвращает среднеквадратическое отклонение двух векторов. Написать тесты для кода"
      ],
      "metadata": {
        "id": "0nS-kIa8g8vd"
      }
    },
    {
      "cell_type": "code",
      "source": [
        "def mse(pred, true):\n",
        "  sum=0\n",
        "  for i in range(len(pred)):\n",
        "    sum+=(true[i]-pred[i])**2\n",
        "  return sum/len(pred)\n",
        "def mse_test():\n",
        "  assert mse([12, 13, 14, 15, 15, 22, 27],[11, 13, 14, 14, 15, 16, 18]) == 17\n",
        "  assert mse([1,2,3,4],[5,6,7,8]) == 16\n",
        "  assert mse([5,5,5,5,5],[5,5,5,5,5]) == 0\n",
        "mse_test()"
      ],
      "metadata": {
        "id": "8iphx4LM6xbx"
      },
      "execution_count": 8,
      "outputs": []
    },
    {
      "cell_type": "markdown",
      "source": [
        "# Задача 6\n",
        "Написать функцию, принимающая целое положительное число. Функция должна вернуть\n",
        "строку вида “(n1**p1)(n2**p2)…(nk**pk)” представляющая разложение числа на простые\n",
        "множители (если pi == 1, то выводить только ni).\n",
        "Например, для числа 86240 функция должна вернуть “(2**5)(5)(7**2)(11)”. Написать тесты для кода"
      ],
      "metadata": {
        "id": "vpIPKL439zkw"
      }
    },
    {
      "cell_type": "code",
      "source": [
        "import re\n",
        "def mse(number):\n",
        "  dic={}\n",
        "  i=2\n",
        "  while(number>1):\n",
        "    if(number%i==0):\n",
        "      number/=i\n",
        "      if(i in dic):\n",
        "        dic[i]+=1\n",
        "      else:\n",
        "        dic[i]=1\n",
        "    else:\n",
        "      i+=1\n",
        "  result=\"\"\n",
        "  for key in dic:\n",
        "    result+=f\"({key}**{dic[key]})\"\n",
        "  return re.sub('\\*\\*1','',result)\n",
        "def mse_test():\n",
        "  assert mse(86240)==\"(2**5)(5)(7**2)(11)\"\n",
        "  assert mse(247)==\"(13)(19)\"\n",
        "  assert mse(24)==\"(2**3)(3)\"\n",
        "mse_test()"
      ],
      "metadata": {
        "id": "pFebmcZk94Jw"
      },
      "execution_count": null,
      "outputs": []
    },
    {
      "cell_type": "markdown",
      "source": [
        "# Задача 7\n",
        "Написать функцию, принимающая целое число n, задающее количество кубиков. Функция\n",
        "должна определить, можно ли из данного кол-ва кубиков построить пирамиду, то есть\n",
        "можно ли представить число n как 1^2+2^2+3^2+…+k^2. Если можно, то функция должна\n",
        "вернуть k, иначе строку “It is impossible”. Написать тесты для кода"
      ],
      "metadata": {
        "id": "ps2s0BudX7A2"
      }
    },
    {
      "cell_type": "code",
      "source": [
        "def pyramid(number):\n",
        "  reserfnumber=number\n",
        "  count=1\n",
        "  while(reserfnumber>0):\n",
        "    reserfnumber-=count*count\n",
        "    count+=1\n",
        "  return count-1 if (number!=0 and reserfnumber==0) else 'It is impossible'\n",
        "def pyramid_test():\n",
        "  assert pyramid(0) =='It is impossible'\n",
        "  assert pyramid(1) == 1\n",
        "  assert pyramid(5) == 2\n",
        "  assert pyramid(55) == 5\n",
        "  assert pyramid(40) == 'It is impossible'\n",
        "pyramid_test()"
      ],
      "metadata": {
        "id": "3YPjEXxhX_YT",
        "colab": {
          "base_uri": "https://localhost:8080/"
        },
        "outputId": "fc87c55b-4e49-412c-95ca-c8b9b717e398"
      },
      "execution_count": null,
      "outputs": [
        {
          "output_type": "stream",
          "name": "stdout",
          "text": [
            "1\n",
            "1\n",
            "1\n",
            "1\n"
          ]
        }
      ]
    },
    {
      "cell_type": "markdown",
      "source": [
        "# Задача 8\n",
        "Функция принимает на вход положительное число и определяет является ли оно сбалансированным, т.е. сумма цифр до средних равна сумме цифр после. Средними в случае нечетного числа цифр считать одну цифру, в случае четного - две средних. Написать тесты для кода"
      ],
      "metadata": {
        "id": "KeKgmIdAQMEJ"
      }
    },
    {
      "cell_type": "code",
      "source": [
        "def sum(number):\n",
        "  result=0\n",
        "  for i in str(number):\n",
        "    result+=int(i)\n",
        "  return result\n",
        "def is_balans(number):\n",
        "  center=len(str(number))/2\n",
        "  center1=center+1\n",
        "  if(len(str(number))%2!=0):\n",
        "    center+=0.5\n",
        "    center1=center\n",
        "  a=sum((str(number))[:int(center-1)])\n",
        "  b=sum(str(number)[int(center1):])\n",
        "  return a==b\n",
        "def is_balans_test():\n",
        "  assert is_balans(0) ==True\n",
        "  assert is_balans(123) ==False\n",
        "  assert is_balans(13) ==True\n",
        "  assert is_balans(1253) ==False\n",
        "  assert is_balans(13431) ==True\n",
        "  assert is_balans(136722) ==True\n",
        "is_balans_test()"
      ],
      "metadata": {
        "id": "gMAAqtqlQrZt"
      },
      "execution_count": null,
      "outputs": []
    }
  ]
}